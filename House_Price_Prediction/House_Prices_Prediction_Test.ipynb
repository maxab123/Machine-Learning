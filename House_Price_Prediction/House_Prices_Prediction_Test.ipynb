{
 "cells": [
  {
   "cell_type": "code",
   "execution_count": 1,
   "id": "c72c3e2c",
   "metadata": {},
   "outputs": [],
   "source": [
    "import pandas as pd\n",
    "import numpy as np\n",
    "import matplotlib.pyplot as plt\n",
    "import seaborn as sns"
   ]
  },
  {
   "cell_type": "code",
   "execution_count": 2,
   "id": "2ea99131",
   "metadata": {},
   "outputs": [],
   "source": [
    "test_df = pd.read_csv(\"Data/House_prediction_krish/test.csv\")"
   ]
  },
  {
   "cell_type": "code",
   "execution_count": 3,
   "id": "62807e62",
   "metadata": {},
   "outputs": [
    {
     "data": {
      "text/html": [
       "<div>\n",
       "<style scoped>\n",
       "    .dataframe tbody tr th:only-of-type {\n",
       "        vertical-align: middle;\n",
       "    }\n",
       "\n",
       "    .dataframe tbody tr th {\n",
       "        vertical-align: top;\n",
       "    }\n",
       "\n",
       "    .dataframe thead th {\n",
       "        text-align: right;\n",
       "    }\n",
       "</style>\n",
       "<table border=\"1\" class=\"dataframe\">\n",
       "  <thead>\n",
       "    <tr style=\"text-align: right;\">\n",
       "      <th></th>\n",
       "      <th>Id</th>\n",
       "      <th>MSSubClass</th>\n",
       "      <th>MSZoning</th>\n",
       "      <th>LotFrontage</th>\n",
       "      <th>LotArea</th>\n",
       "      <th>Street</th>\n",
       "      <th>Alley</th>\n",
       "      <th>LotShape</th>\n",
       "      <th>LandContour</th>\n",
       "      <th>Utilities</th>\n",
       "      <th>...</th>\n",
       "      <th>ScreenPorch</th>\n",
       "      <th>PoolArea</th>\n",
       "      <th>PoolQC</th>\n",
       "      <th>Fence</th>\n",
       "      <th>MiscFeature</th>\n",
       "      <th>MiscVal</th>\n",
       "      <th>MoSold</th>\n",
       "      <th>YrSold</th>\n",
       "      <th>SaleType</th>\n",
       "      <th>SaleCondition</th>\n",
       "    </tr>\n",
       "  </thead>\n",
       "  <tbody>\n",
       "    <tr>\n",
       "      <th>0</th>\n",
       "      <td>1461</td>\n",
       "      <td>20</td>\n",
       "      <td>RH</td>\n",
       "      <td>80.0</td>\n",
       "      <td>11622</td>\n",
       "      <td>Pave</td>\n",
       "      <td>NaN</td>\n",
       "      <td>Reg</td>\n",
       "      <td>Lvl</td>\n",
       "      <td>AllPub</td>\n",
       "      <td>...</td>\n",
       "      <td>120</td>\n",
       "      <td>0</td>\n",
       "      <td>NaN</td>\n",
       "      <td>MnPrv</td>\n",
       "      <td>NaN</td>\n",
       "      <td>0</td>\n",
       "      <td>6</td>\n",
       "      <td>2010</td>\n",
       "      <td>WD</td>\n",
       "      <td>Normal</td>\n",
       "    </tr>\n",
       "    <tr>\n",
       "      <th>1</th>\n",
       "      <td>1462</td>\n",
       "      <td>20</td>\n",
       "      <td>RL</td>\n",
       "      <td>81.0</td>\n",
       "      <td>14267</td>\n",
       "      <td>Pave</td>\n",
       "      <td>NaN</td>\n",
       "      <td>IR1</td>\n",
       "      <td>Lvl</td>\n",
       "      <td>AllPub</td>\n",
       "      <td>...</td>\n",
       "      <td>0</td>\n",
       "      <td>0</td>\n",
       "      <td>NaN</td>\n",
       "      <td>NaN</td>\n",
       "      <td>Gar2</td>\n",
       "      <td>12500</td>\n",
       "      <td>6</td>\n",
       "      <td>2010</td>\n",
       "      <td>WD</td>\n",
       "      <td>Normal</td>\n",
       "    </tr>\n",
       "    <tr>\n",
       "      <th>2</th>\n",
       "      <td>1463</td>\n",
       "      <td>60</td>\n",
       "      <td>RL</td>\n",
       "      <td>74.0</td>\n",
       "      <td>13830</td>\n",
       "      <td>Pave</td>\n",
       "      <td>NaN</td>\n",
       "      <td>IR1</td>\n",
       "      <td>Lvl</td>\n",
       "      <td>AllPub</td>\n",
       "      <td>...</td>\n",
       "      <td>0</td>\n",
       "      <td>0</td>\n",
       "      <td>NaN</td>\n",
       "      <td>MnPrv</td>\n",
       "      <td>NaN</td>\n",
       "      <td>0</td>\n",
       "      <td>3</td>\n",
       "      <td>2010</td>\n",
       "      <td>WD</td>\n",
       "      <td>Normal</td>\n",
       "    </tr>\n",
       "    <tr>\n",
       "      <th>3</th>\n",
       "      <td>1464</td>\n",
       "      <td>60</td>\n",
       "      <td>RL</td>\n",
       "      <td>78.0</td>\n",
       "      <td>9978</td>\n",
       "      <td>Pave</td>\n",
       "      <td>NaN</td>\n",
       "      <td>IR1</td>\n",
       "      <td>Lvl</td>\n",
       "      <td>AllPub</td>\n",
       "      <td>...</td>\n",
       "      <td>0</td>\n",
       "      <td>0</td>\n",
       "      <td>NaN</td>\n",
       "      <td>NaN</td>\n",
       "      <td>NaN</td>\n",
       "      <td>0</td>\n",
       "      <td>6</td>\n",
       "      <td>2010</td>\n",
       "      <td>WD</td>\n",
       "      <td>Normal</td>\n",
       "    </tr>\n",
       "    <tr>\n",
       "      <th>4</th>\n",
       "      <td>1465</td>\n",
       "      <td>120</td>\n",
       "      <td>RL</td>\n",
       "      <td>43.0</td>\n",
       "      <td>5005</td>\n",
       "      <td>Pave</td>\n",
       "      <td>NaN</td>\n",
       "      <td>IR1</td>\n",
       "      <td>HLS</td>\n",
       "      <td>AllPub</td>\n",
       "      <td>...</td>\n",
       "      <td>144</td>\n",
       "      <td>0</td>\n",
       "      <td>NaN</td>\n",
       "      <td>NaN</td>\n",
       "      <td>NaN</td>\n",
       "      <td>0</td>\n",
       "      <td>1</td>\n",
       "      <td>2010</td>\n",
       "      <td>WD</td>\n",
       "      <td>Normal</td>\n",
       "    </tr>\n",
       "  </tbody>\n",
       "</table>\n",
       "<p>5 rows × 80 columns</p>\n",
       "</div>"
      ],
      "text/plain": [
       "     Id  MSSubClass MSZoning  LotFrontage  LotArea Street Alley LotShape  \\\n",
       "0  1461          20       RH         80.0    11622   Pave   NaN      Reg   \n",
       "1  1462          20       RL         81.0    14267   Pave   NaN      IR1   \n",
       "2  1463          60       RL         74.0    13830   Pave   NaN      IR1   \n",
       "3  1464          60       RL         78.0     9978   Pave   NaN      IR1   \n",
       "4  1465         120       RL         43.0     5005   Pave   NaN      IR1   \n",
       "\n",
       "  LandContour Utilities  ... ScreenPorch PoolArea PoolQC  Fence MiscFeature  \\\n",
       "0         Lvl    AllPub  ...         120        0    NaN  MnPrv         NaN   \n",
       "1         Lvl    AllPub  ...           0        0    NaN    NaN        Gar2   \n",
       "2         Lvl    AllPub  ...           0        0    NaN  MnPrv         NaN   \n",
       "3         Lvl    AllPub  ...           0        0    NaN    NaN         NaN   \n",
       "4         HLS    AllPub  ...         144        0    NaN    NaN         NaN   \n",
       "\n",
       "  MiscVal MoSold  YrSold  SaleType  SaleCondition  \n",
       "0       0      6    2010        WD         Normal  \n",
       "1   12500      6    2010        WD         Normal  \n",
       "2       0      3    2010        WD         Normal  \n",
       "3       0      6    2010        WD         Normal  \n",
       "4       0      1    2010        WD         Normal  \n",
       "\n",
       "[5 rows x 80 columns]"
      ]
     },
     "execution_count": 3,
     "metadata": {},
     "output_type": "execute_result"
    }
   ],
   "source": [
    "test_df.head()"
   ]
  },
  {
   "cell_type": "code",
   "execution_count": 4,
   "id": "0fbcacb0",
   "metadata": {},
   "outputs": [],
   "source": [
    "#Checking for null values"
   ]
  },
  {
   "cell_type": "code",
   "execution_count": 5,
   "id": "7b8326d1",
   "metadata": {
    "collapsed": true
   },
   "outputs": [
    {
     "data": {
      "text/plain": [
       "Id                 0\n",
       "MSSubClass         0\n",
       "MSZoning           4\n",
       "LotFrontage      227\n",
       "LotArea            0\n",
       "                ... \n",
       "MiscVal            0\n",
       "MoSold             0\n",
       "YrSold             0\n",
       "SaleType           1\n",
       "SaleCondition      0\n",
       "Length: 80, dtype: int64"
      ]
     },
     "execution_count": 5,
     "metadata": {},
     "output_type": "execute_result"
    }
   ],
   "source": [
    "test_df.isnull().sum()"
   ]
  },
  {
   "cell_type": "code",
   "execution_count": 6,
   "id": "0267f501",
   "metadata": {
    "collapsed": true
   },
   "outputs": [
    {
     "data": {
      "text/plain": [
       "RL         1114\n",
       "RM          242\n",
       "FV           74\n",
       "C (all)      15\n",
       "RH           10\n",
       "Name: MSZoning, dtype: int64"
      ]
     },
     "execution_count": 6,
     "metadata": {},
     "output_type": "execute_result"
    }
   ],
   "source": [
    "test_df[\"MSZoning\"].value_counts()"
   ]
  },
  {
   "cell_type": "code",
   "execution_count": 7,
   "id": "2f3abaac",
   "metadata": {},
   "outputs": [],
   "source": [
    "## Fill Missing Values\n",
    "test_df[\"LotFrontage\"] = test_df[\"LotFrontage\"].fillna(test_df[\"LotFrontage\"].mean())"
   ]
  },
  {
   "cell_type": "code",
   "execution_count": 8,
   "id": "d6ff78cc",
   "metadata": {},
   "outputs": [],
   "source": [
    "test_df[\"MSZoning\"] = test_df[\"MSZoning\"].fillna(test_df[\"MSZoning\"].mode()[0])"
   ]
  },
  {
   "cell_type": "code",
   "execution_count": 20,
   "id": "01aa182d",
   "metadata": {},
   "outputs": [
    {
     "data": {
      "text/plain": [
       "BsmtHalfBath     2\n",
       "Functional       2\n",
       "BsmtFullBath     2\n",
       "Utilities        2\n",
       "BsmtFinSF1       1\n",
       "                ..\n",
       "BsmtFinType1     0\n",
       "BsmtFinType2     0\n",
       "MSSubClass       0\n",
       "Heating          0\n",
       "SaleCondition    0\n",
       "Length: 75, dtype: int64"
      ]
     },
     "execution_count": 20,
     "metadata": {},
     "output_type": "execute_result"
    }
   ],
   "source": [
    "test_df.isnull().sum().sort_values(ascending=False)"
   ]
  },
  {
   "cell_type": "code",
   "execution_count": 14,
   "id": "10bd5cdd",
   "metadata": {},
   "outputs": [],
   "source": [
    "test_df[\"GarageFinish\"] = test_df[\"GarageFinish\"].fillna(test_df[\"GarageFinish\"].mode()[0])\n",
    "test_df[\"GarageQual\"] = test_df[\"GarageQual\"].fillna(test_df[\"GarageQual\"].mode()[0])\n",
    "test_df[\"GarageCond\"] = test_df[\"GarageCond\"].fillna(test_df[\"GarageCond\"].mode()[0])\n",
    "\n",
    "test_df[\"BsmtFinType1\"] = test_df[\"BsmtFinType1\"].fillna(test_df[\"BsmtFinType1\"].mode()[0])\n",
    "test_df[\"BsmtExposure\"] = test_df[\"BsmtExposure\"].fillna(test_df[\"BsmtExposure\"].mode()[0])\n",
    "test_df[\"BsmtFinType2\"] = test_df[\"BsmtFinType2\"].fillna(test_df[\"BsmtFinType2\"].mode()[0])\n",
    "\n",
    "test_df[\"FireplaceQu\"] = test_df[\"FireplaceQu\"].fillna(test_df[\"FireplaceQu\"].mode()[0])\n",
    "test_df[\"GarageType\"] = test_df[\"GarageType\"].fillna(test_df[\"GarageType\"].mode()[0])\n",
    "\n",
    "test_df.drop([\"GarageYrBlt\"], axis=1, inplace=True)\n",
    "\n",
    "test_df[\"BsmtCond\"] = test_df[\"BsmtCond\"].fillna(test_df[\"BsmtCond\"].mode()[0])#For categorical feature I am replacing them with the mode.\n",
    "test_df[\"BsmtQual\"] = test_df[\"BsmtQual\"].fillna(test_df[\"BsmtQual\"].mode()[0])\n",
    "test_df[\"MasVnrType\"] = test_df[\"MasVnrType\"].fillna(test_df[\"MasVnrType\"].mode()[0])\n",
    "test_df[\"MasVnrArea\"] = test_df[\"MasVnrArea\"].fillna(test_df[\"MasVnrArea\"].mode()[0])\n",
    "\n",
    "test_df[\"LotFrontage\"] = test_df[\"LotFrontage\"].fillna(test_df[\"LotFrontage\"].mean())\n",
    "test_df.drop([\"Alley\"], axis=1, inplace=True)"
   ]
  },
  {
   "cell_type": "code",
   "execution_count": 18,
   "id": "85d92cde",
   "metadata": {},
   "outputs": [],
   "source": [
    "test_df.drop([\"PoolQC\", \"Fence\", \"MiscFeature\"], axis=1, inplace=True)"
   ]
  },
  {
   "cell_type": "code",
   "execution_count": 23,
   "id": "39d61228",
   "metadata": {},
   "outputs": [
    {
     "data": {
      "text/plain": [
       "Id               0\n",
       "FireplaceQu      0\n",
       "Functional       0\n",
       "TotRmsAbvGrd     0\n",
       "KitchenQual      0\n",
       "                ..\n",
       "MasVnrType       0\n",
       "Exterior2nd      0\n",
       "Exterior1st      0\n",
       "RoofMatl         0\n",
       "SaleCondition    0\n",
       "Length: 75, dtype: int64"
      ]
     },
     "execution_count": 23,
     "metadata": {},
     "output_type": "execute_result"
    }
   ],
   "source": [
    "test_df.isnull().sum().sort_values(ascending=False)"
   ]
  },
  {
   "cell_type": "code",
   "execution_count": 22,
   "id": "2afb20b5",
   "metadata": {},
   "outputs": [],
   "source": [
    "test_df.dropna(axis = 0, inplace=True)"
   ]
  },
  {
   "cell_type": "code",
   "execution_count": 25,
   "id": "d39cb5c3",
   "metadata": {
    "collapsed": true
   },
   "outputs": [
    {
     "data": {
      "text/plain": [
       "<AxesSubplot:>"
      ]
     },
     "execution_count": 25,
     "metadata": {},
     "output_type": "execute_result"
    },
    {
     "data": {
      "image/png": "[encoded data removed]",
      "text/plain": [
       "<Figure size 432x288 with 2 Axes>"
      ]
     },
     "metadata": {
      "needs_background": "light"
     },
     "output_type": "display_data"
    }
   ],
   "source": [
    "sns.heatmap(test_df.isnull(), yticklabels = False)"
   ]
  },
  {
   "cell_type": "code",
   "execution_count": 26,
   "id": "992fb1fc",
   "metadata": {},
   "outputs": [
    {
     "data": {
      "text/plain": [
       "(1449, 75)"
      ]
     },
     "execution_count": 26,
     "metadata": {},
     "output_type": "execute_result"
    }
   ],
   "source": [
    "test_df.shape"
   ]
  },
  {
   "cell_type": "code",
   "execution_count": 27,
   "id": "a8eeb2e6",
   "metadata": {
    "collapsed": true
   },
   "outputs": [
    {
     "name": "stdout",
     "output_type": "stream",
     "text": [
      "<class 'pandas.core.frame.DataFrame'>\n",
      "Int64Index: 1449 entries, 0 to 1458\n",
      "Data columns (total 75 columns):\n",
      " #   Column         Non-Null Count  Dtype  \n",
      "---  ------         --------------  -----  \n",
      " 0   Id             1449 non-null   int64  \n",
      " 1   MSSubClass     1449 non-null   int64  \n",
      " 2   MSZoning       1449 non-null   object \n",
      " 3   LotFrontage    1449 non-null   float64\n",
      " 4   LotArea        1449 non-null   int64  \n",
      " 5   Street         1449 non-null   object \n",
      " 6   LotShape       1449 non-null   object \n",
      " 7   LandContour    1449 non-null   object \n",
      " 8   Utilities      1449 non-null   object \n",
      " 9   LotConfig      1449 non-null   object \n",
      " 10  LandSlope      1449 non-null   object \n",
      " 11  Neighborhood   1449 non-null   object \n",
      " 12  Condition1     1449 non-null   object \n",
      " 13  Condition2     1449 non-null   object \n",
      " 14  BldgType       1449 non-null   object \n",
      " 15  HouseStyle     1449 non-null   object \n",
      " 16  OverallQual    1449 non-null   int64  \n",
      " 17  OverallCond    1449 non-null   int64  \n",
      " 18  YearBuilt      1449 non-null   int64  \n",
      " 19  YearRemodAdd   1449 non-null   int64  \n",
      " 20  RoofStyle      1449 non-null   object \n",
      " 21  RoofMatl       1449 non-null   object \n",
      " 22  Exterior1st    1449 non-null   object \n",
      " 23  Exterior2nd    1449 non-null   object \n",
      " 24  MasVnrType     1449 non-null   object \n",
      " 25  MasVnrArea     1449 non-null   float64\n",
      " 26  ExterQual      1449 non-null   object \n",
      " 27  ExterCond      1449 non-null   object \n",
      " 28  Foundation     1449 non-null   object \n",
      " 29  BsmtQual       1449 non-null   object \n",
      " 30  BsmtCond       1449 non-null   object \n",
      " 31  BsmtExposure   1449 non-null   object \n",
      " 32  BsmtFinType1   1449 non-null   object \n",
      " 33  BsmtFinSF1     1449 non-null   float64\n",
      " 34  BsmtFinType2   1449 non-null   object \n",
      " 35  BsmtFinSF2     1449 non-null   float64\n",
      " 36  BsmtUnfSF      1449 non-null   float64\n",
      " 37  TotalBsmtSF    1449 non-null   float64\n",
      " 38  Heating        1449 non-null   object \n",
      " 39  HeatingQC      1449 non-null   object \n",
      " 40  CentralAir     1449 non-null   object \n",
      " 41  Electrical     1449 non-null   object \n",
      " 42  1stFlrSF       1449 non-null   int64  \n",
      " 43  2ndFlrSF       1449 non-null   int64  \n",
      " 44  LowQualFinSF   1449 non-null   int64  \n",
      " 45  GrLivArea      1449 non-null   int64  \n",
      " 46  BsmtFullBath   1449 non-null   float64\n",
      " 47  BsmtHalfBath   1449 non-null   float64\n",
      " 48  FullBath       1449 non-null   int64  \n",
      " 49  HalfBath       1449 non-null   int64  \n",
      " 50  BedroomAbvGr   1449 non-null   int64  \n",
      " 51  KitchenAbvGr   1449 non-null   int64  \n",
      " 52  KitchenQual    1449 non-null   object \n",
      " 53  TotRmsAbvGrd   1449 non-null   int64  \n",
      " 54  Functional     1449 non-null   object \n",
      " 55  Fireplaces     1449 non-null   int64  \n",
      " 56  FireplaceQu    1449 non-null   object \n",
      " 57  GarageType     1449 non-null   object \n",
      " 58  GarageFinish   1449 non-null   object \n",
      " 59  GarageCars     1449 non-null   float64\n",
      " 60  GarageArea     1449 non-null   float64\n",
      " 61  GarageQual     1449 non-null   object \n",
      " 62  GarageCond     1449 non-null   object \n",
      " 63  PavedDrive     1449 non-null   object \n",
      " 64  WoodDeckSF     1449 non-null   int64  \n",
      " 65  OpenPorchSF    1449 non-null   int64  \n",
      " 66  EnclosedPorch  1449 non-null   int64  \n",
      " 67  3SsnPorch      1449 non-null   int64  \n",
      " 68  ScreenPorch    1449 non-null   int64  \n",
      " 69  PoolArea       1449 non-null   int64  \n",
      " 70  MiscVal        1449 non-null   int64  \n",
      " 71  MoSold         1449 non-null   int64  \n",
      " 72  YrSold         1449 non-null   int64  \n",
      " 73  SaleType       1449 non-null   object \n",
      " 74  SaleCondition  1449 non-null   object \n",
      "dtypes: float64(10), int64(26), object(39)\n",
      "memory usage: 860.3+ KB\n"
     ]
    }
   ],
   "source": [
    "test_df.info()"
   ]
  },
  {
   "cell_type": "code",
   "execution_count": 29,
   "id": "911cf851",
   "metadata": {},
   "outputs": [],
   "source": [
    "test_df.to_csv(\"formulatedtest.csv\", index=False)"
   ]
  },
  {
   "cell_type": "code",
   "execution_count": null,
   "id": "8fc49ff3",
   "metadata": {},
   "outputs": [],
   "source": []
  },
  {
   "cell_type": "code",
   "execution_count": null,
   "id": "8ea8f441",
   "metadata": {},
   "outputs": [],
   "source": []
  },
  {
   "cell_type": "code",
   "execution_count": null,
   "id": "0663defb",
   "metadata": {},
   "outputs": [],
   "source": []
  },
  {
   "cell_type": "code",
   "execution_count": null,
   "id": "e710bf91",
   "metadata": {},
   "outputs": [],
   "source": []
  },
  {
   "cell_type": "code",
   "execution_count": null,
   "id": "dc9e69b7",
   "metadata": {},
   "outputs": [],
   "source": []
  },
  {
   "cell_type": "code",
   "execution_count": null,
   "id": "cdad07a3",
   "metadata": {},
   "outputs": [],
   "source": []
  },
  {
   "cell_type": "code",
   "execution_count": null,
   "id": "6c232ab7",
   "metadata": {},
   "outputs": [],
   "source": []
  },
  {
   "cell_type": "code",
   "execution_count": null,
   "id": "4210bd24",
   "metadata": {},
   "outputs": [],
   "source": []
  },
  {
   "cell_type": "code",
   "execution_count": null,
   "id": "2a70dba7",
   "metadata": {},
   "outputs": [],
   "source": []
  },
  {
   "cell_type": "code",
   "execution_count": null,
   "id": "7b14bfab",
   "metadata": {},
   "outputs": [],
   "source": []
  },
  {
   "cell_type": "code",
   "execution_count": null,
   "id": "edde344d",
   "metadata": {},
   "outputs": [],
   "source": []
  },
  {
   "cell_type": "code",
   "execution_count": null,
   "id": "87956d77",
   "metadata": {},
   "outputs": [],
   "source": []
  },
  {
   "cell_type": "code",
   "execution_count": null,
   "id": "a43d1d9d",
   "metadata": {},
   "outputs": [],
   "source": []
  },
  {
   "cell_type": "code",
   "execution_count": null,
   "id": "83bd9ed9",
   "metadata": {},
   "outputs": [],
   "source": []
  },
  {
   "cell_type": "code",
   "execution_count": null,
   "id": "5e050a99",
   "metadata": {},
   "outputs": [],
   "source": []
  },
  {
   "cell_type": "code",
   "execution_count": null,
   "id": "35abe67d",
   "metadata": {},
   "outputs": [],
   "source": []
  },
  {
   "cell_type": "code",
   "execution_count": null,
   "id": "434e538d",
   "metadata": {},
   "outputs": [],
   "source": []
  },
  {
   "cell_type": "code",
   "execution_count": null,
   "id": "f3e415f2",
   "metadata": {},
   "outputs": [],
   "source": []
  },
  {
   "cell_type": "code",
   "execution_count": null,
   "id": "1a44767d",
   "metadata": {},
   "outputs": [],
   "source": []
  },
  {
   "cell_type": "code",
   "execution_count": null,
   "id": "a042fda7",
   "metadata": {},
   "outputs": [],
   "source": []
  }
 ],
 "metadata": {
  "kernelspec": {
   "display_name": "Python 3 (ipykernel)",
   "language": "python",
   "name": "python3"
  },
  "language_info": {
   "codemirror_mode": {
    "name": "ipython",
    "version": 3
   },
   "file_extension": ".py",
   "mimetype": "text/x-python",
   "name": "python",
   "nbconvert_exporter": "python",
   "pygments_lexer": "ipython3",
   "version": "3.10.4"
  }
 },
 "nbformat": 4,
 "nbformat_minor": 5
}
